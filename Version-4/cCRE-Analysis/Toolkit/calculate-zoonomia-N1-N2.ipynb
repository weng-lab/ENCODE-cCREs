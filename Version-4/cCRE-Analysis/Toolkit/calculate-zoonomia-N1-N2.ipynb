{
 "cells": [
  {
   "cell_type": "code",
   "execution_count": 1,
   "id": "45b88f3e-3fab-4934-8b58-1771570af927",
   "metadata": {},
   "outputs": [],
   "source": [
    "import numpy as np\n",
    "import pandas as pd\n",
    "import matplotlib.pyplot as plt\n",
    "import os\n",
    "import glob"
   ]
  },
  {
   "cell_type": "code",
   "execution_count": 2,
   "id": "438a42f0-cb71-438e-88f1-163e147048c4",
   "metadata": {},
   "outputs": [],
   "source": [
    "from multiprocessing import Pool\n",
    "from tqdm import tqdm\n",
    "def run_imap_multiprocessing(func, argument_list, num_processes):\n",
    "    \"\"\"\n",
    "    Run a function in parallel using multiprocessing with a progress bar.\n",
    "\n",
    "    Parameters:\n",
    "    ----------\n",
    "    func : function\n",
    "        The function to be applied in parallel to each element of `argument_list`.\n",
    "    \n",
    "    argument_list : list\n",
    "        List of arguments to be passed to `func`, each processed independently.\n",
    "    \n",
    "    num_processes : int\n",
    "        Number of worker processes to spawn.\n",
    "\n",
    "    Returns:\n",
    "    -------\n",
    "    list\n",
    "        A list of results collected from applying `func` to each element in `argument_list`.\n",
    "\n",
    "    Example:\n",
    "    --------\n",
    "    >>> def square(x):\n",
    "    ...     return x ** 2\n",
    "    >>> run_imap_multiprocessing(square, [1, 2, 3, 4], num_processes=2)\n",
    "    [1, 4, 9, 16]\n",
    "\n",
    "    Notes:\n",
    "    ------\n",
    "    - Uses `Pool.imap()` for memory efficiency (lazy evaluation).\n",
    "    - Displays a progress bar via `tqdm` for tracking completion.\n",
    "    - Ensure `if __name__ == \"__main__\":` when calling this in a script to prevent issues on Windows.\n",
    "    \"\"\"\n",
    "    with Pool(processes=num_processes) as pool:\n",
    "        result_list_tqdm = []\n",
    "        for result in tqdm(pool.imap(func=func, iterable=argument_list), total=len(argument_list)):\n",
    "            result_list_tqdm.append(result)\n",
    "\n",
    "    return result_list_tqdm"
   ]
  },
  {
   "cell_type": "code",
   "execution_count": 3,
   "id": "4d63ff51-8adc-441e-b758-856ce19e6df9",
   "metadata": {},
   "outputs": [],
   "source": [
    "from subprocess import run, PIPE, Popen\n",
    "def get_align_perc_old(species):\n",
    "    coverage = Popen([\"bedtools\", \"coverage\",\n",
    "                      \"-a\", \"/home/moorej3/Lab/ENCODE/Encyclopedia/V7/Registry/V7-hg38/hg38-TF/test-filtering.txt\",\n",
    "                      \"-b\", \"/zata/zippy/andrewsg/data/zoonomia/BED/\" + species + \".bg\"], stdout=PIPE)\n",
    "\n",
    "    p = []\n",
    "    for line in coverage.stdout:\n",
    "        split = str(line, encoding=\"utf-8\").strip().split(\"\\t\")\n",
    "        p.append(float(split[-1]))\n",
    "    return(np.array(p))"
   ]
  },
  {
   "cell_type": "code",
   "execution_count": 4,
   "id": "68e244a5-2be7-4685-91f5-bedf7c60c8f7",
   "metadata": {},
   "outputs": [],
   "source": [
    "species_list = sorted([x.split('.')[0] for x in os.listdir('/zata/zippy/andrewsg/data/zoonomia/BED')])"
   ]
  },
  {
   "cell_type": "code",
   "execution_count": 5,
   "id": "e9f1acfa-8fe2-4295-a4fb-2c4eb7e42738",
   "metadata": {},
   "outputs": [
    {
     "name": "stderr",
     "output_type": "stream",
     "text": [
      "100%|████████████████████████████████████████████████████████████| 240/240 [02:03<00:00,  1.94it/s]\n"
     ]
    }
   ],
   "source": [
    "X = run_imap_multiprocessing(get_align_perc_old, species_list, 64)"
   ]
  },
  {
   "cell_type": "code",
   "execution_count": 6,
   "id": "4544c0a3-2073-42a7-8bb9-5563b3337470",
   "metadata": {},
   "outputs": [],
   "source": [
    "X = np.stack(X).T"
   ]
  },
  {
   "cell_type": "code",
   "execution_count": 7,
   "id": "64cb55d8-881e-413d-ac0d-e20c31831c5f",
   "metadata": {},
   "outputs": [
    {
     "data": {
      "text/plain": [
       "(2030597, 240)"
      ]
     },
     "execution_count": 7,
     "metadata": {},
     "output_type": "execute_result"
    }
   ],
   "source": [
    "X.shape"
   ]
  },
  {
   "cell_type": "code",
   "execution_count": 8,
   "id": "5d07262b-9caf-4ab8-8b36-132b91e13b05",
   "metadata": {},
   "outputs": [],
   "source": [
    "X = pd.DataFrame(X, columns=species_list)\n",
    "N1 = np.sum(1 * X.ge(.9).values, axis=1)\n",
    "N2 = np.sum(1 * X.le(.1).values, axis=1)"
   ]
  },
  {
   "cell_type": "code",
   "execution_count": 9,
   "id": "14c3ce14-a654-40e7-944d-b949468300cd",
   "metadata": {},
   "outputs": [],
   "source": [
    "out=open(\"/home/moorej3/Lab/ENCODE/Encyclopedia/V7/Registry/V7-hg38/hg38-TF/TF-N1-N2.txt\", \"w+\")\n",
    "i=0\n",
    "for entry in N1:\n",
    "    print(str(entry)+\"\\t\"+str(N2[i]), file=out)\n",
    "    i +=1\n",
    "out.close()"
   ]
  },
  {
   "cell_type": "code",
   "execution_count": 20,
   "id": "4ac2d024-40e5-405a-9b88-dbf33c82322d",
   "metadata": {},
   "outputs": [
    {
     "data": {
      "text/plain": [
       "array([157,  58,  42,  38,  32,  56, 110,  62,  14,  62])"
      ]
     },
     "execution_count": 20,
     "metadata": {},
     "output_type": "execute_result"
    }
   ],
   "source": [
    "N2[0:10]"
   ]
  },
  {
   "cell_type": "code",
   "execution_count": 13,
   "id": "c1be920f-a6a7-4f10-8031-1150eb5dfbc1",
   "metadata": {
    "execution": {
     "iopub.execute_input": "2025-06-27T15:47:07.417668Z",
     "iopub.status.busy": "2025-06-27T15:47:07.417491Z",
     "iopub.status.idle": "2025-06-27T15:47:07.679101Z",
     "shell.execute_reply": "2025-06-27T15:47:07.678498Z",
     "shell.execute_reply.started": "2025-06-27T15:47:07.417652Z"
    }
   },
   "outputs": [
    {
     "data": {
      "text/plain": [
       "<matplotlib.collections.LineCollection at 0x71b2e864e710>"
      ]
     },
     "execution_count": 13,
     "metadata": {},
     "output_type": "execute_result"
    },
    {
     "data": {
      "image/png": "[encoded data removed]",
      "text/plain": [
       "<Figure size 600x200 with 1 Axes>"
      ]
     },
     "metadata": {},
     "output_type": "display_data"
    }
   ],
   "source": [
    "fig, ax = plt.subplots(figsize=(6,2))\n",
    "_ = ax.hist(N1, 241)\n",
    "ymin, ymax = ax.get_ylim()\n",
    "ax.vlines(x = [1,6,23,32,43,241], \n",
    "          ymin=ymin,\n",
    "          ymax=ymax,\n",
    "          color='k', linestyles='--')"
   ]
  }
 ],
 "metadata": {
  "kernelspec": {
   "display_name": "Python 3 (ipykernel)",
   "language": "python",
   "name": "python3"
  },
  "language_info": {
   "codemirror_mode": {
    "name": "ipython",
    "version": 3
   },
   "file_extension": ".py",
   "mimetype": "text/x-python",
   "name": "python",
   "nbconvert_exporter": "python",
   "pygments_lexer": "ipython3",
   "version": "3.12.8"
  }
 },
 "nbformat": 4,
 "nbformat_minor": 5
}
